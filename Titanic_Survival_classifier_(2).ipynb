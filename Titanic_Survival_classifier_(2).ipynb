{
  "cells": [
    {
      "cell_type": "markdown",
      "metadata": {
        "id": "view-in-github",
        "colab_type": "text"
      },
      "source": [
        "<a href=\"https://colab.research.google.com/github/Abdulrahman0044/Titanic_survival_classifier/blob/main/Titanic_Survival_classifier_(2).ipynb\" target=\"_parent\"><img src=\"https://colab.research.google.com/assets/colab-badge.svg\" alt=\"Open In Colab\"/></a>"
      ]
    },
    {
      "cell_type": "code",
      "execution_count": null,
      "id": "8f5b630b-aada-4927-b7a3-7f1602b98bf3",
      "metadata": {
        "tags": [],
        "id": "8f5b630b-aada-4927-b7a3-7f1602b98bf3"
      },
      "outputs": [],
      "source": [
        "# import the necessary libraries\n",
        "import pandas as pd\n",
        "import numpy as np\n",
        "import os\n",
        "import matplotlib.pyplot as plt\n",
        "import seaborn as sns\n",
        "import json"
      ]
    },
    {
      "cell_type": "markdown",
      "id": "7c881480-5ff5-457f-a91a-67cbcb761991",
      "metadata": {
        "tags": [],
        "id": "7c881480-5ff5-457f-a91a-67cbcb761991"
      },
      "source": [
        "### Read the dataset"
      ]
    },
    {
      "cell_type": "code",
      "execution_count": null,
      "id": "03b0795d-97f2-4b78-b984-94aecdc64b15",
      "metadata": {
        "tags": [],
        "id": "03b0795d-97f2-4b78-b984-94aecdc64b15"
      },
      "outputs": [],
      "source": [
        "file_path = \"/Users/HP/Downloads/archive (2)/titanic.csv\"\n",
        "# for dir_name, _,file_names in os.walk(file_path):\n",
        "#    for filename in file_names:\n",
        " #       print(os.path.join(dir_name, filename))"
      ]
    },
    {
      "cell_type": "code",
      "execution_count": null,
      "id": "13ed95fd-fc2e-4fdb-89b7-1a6ff72e2c18",
      "metadata": {
        "id": "13ed95fd-fc2e-4fdb-89b7-1a6ff72e2c18"
      },
      "outputs": [],
      "source": [
        "# os.listdir()"
      ]
    },
    {
      "cell_type": "code",
      "execution_count": null,
      "id": "1d55739d-5377-4ea8-b0fd-671b29e07a00",
      "metadata": {
        "tags": [],
        "id": "1d55739d-5377-4ea8-b0fd-671b29e07a00"
      },
      "outputs": [],
      "source": [
        "# Read in the .csv file\n",
        "df = pd.read_csv(file_path)"
      ]
    },
    {
      "cell_type": "code",
      "execution_count": null,
      "id": "124b3fce-581c-4bc8-90e2-a598ff8d7d25",
      "metadata": {
        "tags": [],
        "id": "124b3fce-581c-4bc8-90e2-a598ff8d7d25",
        "outputId": "7435bd18-ef23-4db8-b96d-b77db38b981c"
      },
      "outputs": [
        {
          "data": {
            "text/html": [
              "<div>\n",
              "<style scoped>\n",
              "    .dataframe tbody tr th:only-of-type {\n",
              "        vertical-align: middle;\n",
              "    }\n",
              "\n",
              "    .dataframe tbody tr th {\n",
              "        vertical-align: top;\n",
              "    }\n",
              "\n",
              "    .dataframe thead th {\n",
              "        text-align: right;\n",
              "    }\n",
              "</style>\n",
              "<table border=\"1\" class=\"dataframe\">\n",
              "  <thead>\n",
              "    <tr style=\"text-align: right;\">\n",
              "      <th></th>\n",
              "      <th>PassengerId</th>\n",
              "      <th>Survived</th>\n",
              "      <th>Pclass</th>\n",
              "      <th>Name</th>\n",
              "      <th>Sex</th>\n",
              "      <th>Age</th>\n",
              "      <th>SibSp</th>\n",
              "      <th>Parch</th>\n",
              "      <th>Ticket</th>\n",
              "      <th>Fare</th>\n",
              "      <th>Cabin</th>\n",
              "      <th>Embarked</th>\n",
              "    </tr>\n",
              "  </thead>\n",
              "  <tbody>\n",
              "    <tr>\n",
              "      <th>0</th>\n",
              "      <td>892</td>\n",
              "      <td>0</td>\n",
              "      <td>3</td>\n",
              "      <td>Kelly, Mr. James</td>\n",
              "      <td>male</td>\n",
              "      <td>34.5</td>\n",
              "      <td>0</td>\n",
              "      <td>0</td>\n",
              "      <td>330911</td>\n",
              "      <td>7.8292</td>\n",
              "      <td>NaN</td>\n",
              "      <td>Q</td>\n",
              "    </tr>\n",
              "    <tr>\n",
              "      <th>1</th>\n",
              "      <td>893</td>\n",
              "      <td>1</td>\n",
              "      <td>3</td>\n",
              "      <td>Wilkes, Mrs. James (Ellen Needs)</td>\n",
              "      <td>female</td>\n",
              "      <td>47.0</td>\n",
              "      <td>1</td>\n",
              "      <td>0</td>\n",
              "      <td>363272</td>\n",
              "      <td>7.0000</td>\n",
              "      <td>NaN</td>\n",
              "      <td>S</td>\n",
              "    </tr>\n",
              "    <tr>\n",
              "      <th>2</th>\n",
              "      <td>894</td>\n",
              "      <td>0</td>\n",
              "      <td>2</td>\n",
              "      <td>Myles, Mr. Thomas Francis</td>\n",
              "      <td>male</td>\n",
              "      <td>62.0</td>\n",
              "      <td>0</td>\n",
              "      <td>0</td>\n",
              "      <td>240276</td>\n",
              "      <td>9.6875</td>\n",
              "      <td>NaN</td>\n",
              "      <td>Q</td>\n",
              "    </tr>\n",
              "    <tr>\n",
              "      <th>3</th>\n",
              "      <td>895</td>\n",
              "      <td>0</td>\n",
              "      <td>3</td>\n",
              "      <td>Wirz, Mr. Albert</td>\n",
              "      <td>male</td>\n",
              "      <td>27.0</td>\n",
              "      <td>0</td>\n",
              "      <td>0</td>\n",
              "      <td>315154</td>\n",
              "      <td>8.6625</td>\n",
              "      <td>NaN</td>\n",
              "      <td>S</td>\n",
              "    </tr>\n",
              "    <tr>\n",
              "      <th>4</th>\n",
              "      <td>896</td>\n",
              "      <td>1</td>\n",
              "      <td>3</td>\n",
              "      <td>Hirvonen, Mrs. Alexander (Helga E Lindqvist)</td>\n",
              "      <td>female</td>\n",
              "      <td>22.0</td>\n",
              "      <td>1</td>\n",
              "      <td>1</td>\n",
              "      <td>3101298</td>\n",
              "      <td>12.2875</td>\n",
              "      <td>NaN</td>\n",
              "      <td>S</td>\n",
              "    </tr>\n",
              "  </tbody>\n",
              "</table>\n",
              "</div>"
            ],
            "text/plain": [
              "   PassengerId  Survived  Pclass  \\\n",
              "0          892         0       3   \n",
              "1          893         1       3   \n",
              "2          894         0       2   \n",
              "3          895         0       3   \n",
              "4          896         1       3   \n",
              "\n",
              "                                           Name     Sex   Age  SibSp  Parch  \\\n",
              "0                              Kelly, Mr. James    male  34.5      0      0   \n",
              "1              Wilkes, Mrs. James (Ellen Needs)  female  47.0      1      0   \n",
              "2                     Myles, Mr. Thomas Francis    male  62.0      0      0   \n",
              "3                              Wirz, Mr. Albert    male  27.0      0      0   \n",
              "4  Hirvonen, Mrs. Alexander (Helga E Lindqvist)  female  22.0      1      1   \n",
              "\n",
              "    Ticket     Fare Cabin Embarked  \n",
              "0   330911   7.8292   NaN        Q  \n",
              "1   363272   7.0000   NaN        S  \n",
              "2   240276   9.6875   NaN        Q  \n",
              "3   315154   8.6625   NaN        S  \n",
              "4  3101298  12.2875   NaN        S  "
            ]
          },
          "execution_count": 118,
          "metadata": {},
          "output_type": "execute_result"
        }
      ],
      "source": [
        "# Print the first 5 columns\n",
        "df.head()"
      ]
    },
    {
      "cell_type": "code",
      "execution_count": null,
      "id": "51b773ea-54ea-4b26-8079-b92733443aa1",
      "metadata": {
        "tags": [],
        "id": "51b773ea-54ea-4b26-8079-b92733443aa1",
        "outputId": "e31e8605-5da2-4c50-b2f4-371b6b0ac829"
      },
      "outputs": [
        {
          "data": {
            "text/html": [
              "<div>\n",
              "<style scoped>\n",
              "    .dataframe tbody tr th:only-of-type {\n",
              "        vertical-align: middle;\n",
              "    }\n",
              "\n",
              "    .dataframe tbody tr th {\n",
              "        vertical-align: top;\n",
              "    }\n",
              "\n",
              "    .dataframe thead th {\n",
              "        text-align: right;\n",
              "    }\n",
              "</style>\n",
              "<table border=\"1\" class=\"dataframe\">\n",
              "  <thead>\n",
              "    <tr style=\"text-align: right;\">\n",
              "      <th></th>\n",
              "      <th>PassengerId</th>\n",
              "      <th>Survived</th>\n",
              "      <th>Pclass</th>\n",
              "      <th>Name</th>\n",
              "      <th>Sex</th>\n",
              "      <th>Age</th>\n",
              "      <th>SibSp</th>\n",
              "      <th>Parch</th>\n",
              "      <th>Ticket</th>\n",
              "      <th>Fare</th>\n",
              "      <th>Cabin</th>\n",
              "      <th>Embarked</th>\n",
              "    </tr>\n",
              "  </thead>\n",
              "  <tbody>\n",
              "    <tr>\n",
              "      <th>413</th>\n",
              "      <td>1305</td>\n",
              "      <td>0</td>\n",
              "      <td>3</td>\n",
              "      <td>Spector, Mr. Woolf</td>\n",
              "      <td>male</td>\n",
              "      <td>NaN</td>\n",
              "      <td>0</td>\n",
              "      <td>0</td>\n",
              "      <td>A.5. 3236</td>\n",
              "      <td>8.0500</td>\n",
              "      <td>NaN</td>\n",
              "      <td>S</td>\n",
              "    </tr>\n",
              "    <tr>\n",
              "      <th>414</th>\n",
              "      <td>1306</td>\n",
              "      <td>1</td>\n",
              "      <td>1</td>\n",
              "      <td>Oliva y Ocana, Dona. Fermina</td>\n",
              "      <td>female</td>\n",
              "      <td>39.0</td>\n",
              "      <td>0</td>\n",
              "      <td>0</td>\n",
              "      <td>PC 17758</td>\n",
              "      <td>108.9000</td>\n",
              "      <td>C105</td>\n",
              "      <td>C</td>\n",
              "    </tr>\n",
              "    <tr>\n",
              "      <th>415</th>\n",
              "      <td>1307</td>\n",
              "      <td>0</td>\n",
              "      <td>3</td>\n",
              "      <td>Saether, Mr. Simon Sivertsen</td>\n",
              "      <td>male</td>\n",
              "      <td>38.5</td>\n",
              "      <td>0</td>\n",
              "      <td>0</td>\n",
              "      <td>SOTON/O.Q. 3101262</td>\n",
              "      <td>7.2500</td>\n",
              "      <td>NaN</td>\n",
              "      <td>S</td>\n",
              "    </tr>\n",
              "    <tr>\n",
              "      <th>416</th>\n",
              "      <td>1308</td>\n",
              "      <td>0</td>\n",
              "      <td>3</td>\n",
              "      <td>Ware, Mr. Frederick</td>\n",
              "      <td>male</td>\n",
              "      <td>NaN</td>\n",
              "      <td>0</td>\n",
              "      <td>0</td>\n",
              "      <td>359309</td>\n",
              "      <td>8.0500</td>\n",
              "      <td>NaN</td>\n",
              "      <td>S</td>\n",
              "    </tr>\n",
              "    <tr>\n",
              "      <th>417</th>\n",
              "      <td>1309</td>\n",
              "      <td>0</td>\n",
              "      <td>3</td>\n",
              "      <td>Peter, Master. Michael J</td>\n",
              "      <td>male</td>\n",
              "      <td>NaN</td>\n",
              "      <td>1</td>\n",
              "      <td>1</td>\n",
              "      <td>2668</td>\n",
              "      <td>22.3583</td>\n",
              "      <td>NaN</td>\n",
              "      <td>C</td>\n",
              "    </tr>\n",
              "  </tbody>\n",
              "</table>\n",
              "</div>"
            ],
            "text/plain": [
              "     PassengerId  Survived  Pclass                          Name     Sex  \\\n",
              "413         1305         0       3            Spector, Mr. Woolf    male   \n",
              "414         1306         1       1  Oliva y Ocana, Dona. Fermina  female   \n",
              "415         1307         0       3  Saether, Mr. Simon Sivertsen    male   \n",
              "416         1308         0       3           Ware, Mr. Frederick    male   \n",
              "417         1309         0       3      Peter, Master. Michael J    male   \n",
              "\n",
              "      Age  SibSp  Parch              Ticket      Fare Cabin Embarked  \n",
              "413   NaN      0      0           A.5. 3236    8.0500   NaN        S  \n",
              "414  39.0      0      0            PC 17758  108.9000  C105        C  \n",
              "415  38.5      0      0  SOTON/O.Q. 3101262    7.2500   NaN        S  \n",
              "416   NaN      0      0              359309    8.0500   NaN        S  \n",
              "417   NaN      1      1                2668   22.3583   NaN        C  "
            ]
          },
          "execution_count": 119,
          "metadata": {},
          "output_type": "execute_result"
        }
      ],
      "source": [
        "# Print the last 5 columns\n",
        "df.tail()"
      ]
    },
    {
      "cell_type": "code",
      "execution_count": null,
      "id": "7564469b-e2d5-47ab-aeaf-961dc47970b8",
      "metadata": {
        "tags": [],
        "id": "7564469b-e2d5-47ab-aeaf-961dc47970b8",
        "outputId": "489014ca-6b79-4c6a-92c2-56be5b11a896"
      },
      "outputs": [
        {
          "name": "stdout",
          "output_type": "stream",
          "text": [
            "       PassengerId    Survived      Pclass         Age       SibSp  \\\n",
            "count   418.000000  418.000000  418.000000  332.000000  418.000000   \n",
            "mean   1100.500000    0.363636    2.265550   30.272590    0.447368   \n",
            "std     120.810458    0.481622    0.841838   14.181209    0.896760   \n",
            "min     892.000000    0.000000    1.000000    0.170000    0.000000   \n",
            "25%     996.250000    0.000000    1.000000   21.000000    0.000000   \n",
            "50%    1100.500000    0.000000    3.000000   27.000000    0.000000   \n",
            "75%    1204.750000    1.000000    3.000000   39.000000    1.000000   \n",
            "max    1309.000000    1.000000    3.000000   76.000000    8.000000   \n",
            "\n",
            "            Parch        Fare  \n",
            "count  418.000000  417.000000  \n",
            "mean     0.392344   35.627188  \n",
            "std      0.981429   55.907576  \n",
            "min      0.000000    0.000000  \n",
            "25%      0.000000    7.895800  \n",
            "50%      0.000000   14.454200  \n",
            "75%      0.000000   31.500000  \n",
            "max      9.000000  512.329200  \n"
          ]
        },
        {
          "data": {
            "text/plain": [
              "<seaborn.axisgrid.FacetGrid at 0x185c7e6f290>"
            ]
          },
          "execution_count": 120,
          "metadata": {},
          "output_type": "execute_result"
        },
        {
          "data": {
            "image/png": "[encoded data removed]",
            "text/plain": [
              "<Figure size 634x500 with 1 Axes>"
            ]
          },
          "metadata": {},
          "output_type": "display_data"
        }
      ],
      "source": [
        "# Get information about the dataset\n",
        "print(df.describe())\n",
        "sns.displot(df.describe())"
      ]
    },
    {
      "cell_type": "code",
      "execution_count": null,
      "id": "67baecd7-1316-4e93-8b72-ca773950b898",
      "metadata": {
        "tags": [],
        "id": "67baecd7-1316-4e93-8b72-ca773950b898",
        "outputId": "95251b12-305d-45ec-f263-07385acaf1b0"
      },
      "outputs": [
        {
          "name": "stdout",
          "output_type": "stream",
          "text": [
            "<class 'pandas.core.frame.DataFrame'>\n",
            "RangeIndex: 418 entries, 0 to 417\n",
            "Data columns (total 12 columns):\n",
            " #   Column       Non-Null Count  Dtype  \n",
            "---  ------       --------------  -----  \n",
            " 0   PassengerId  418 non-null    int64  \n",
            " 1   Survived     418 non-null    int64  \n",
            " 2   Pclass       418 non-null    int64  \n",
            " 3   Name         418 non-null    object \n",
            " 4   Sex          418 non-null    object \n",
            " 5   Age          332 non-null    float64\n",
            " 6   SibSp        418 non-null    int64  \n",
            " 7   Parch        418 non-null    int64  \n",
            " 8   Ticket       418 non-null    object \n",
            " 9   Fare         417 non-null    float64\n",
            " 10  Cabin        91 non-null     object \n",
            " 11  Embarked     418 non-null    object \n",
            "dtypes: float64(2), int64(5), object(5)\n",
            "memory usage: 39.3+ KB\n"
          ]
        }
      ],
      "source": [
        "# Get information about the data\n",
        "df.info()"
      ]
    },
    {
      "cell_type": "code",
      "execution_count": null,
      "id": "0ce21150-8ab8-41db-b942-8e1c6c5ab0c2",
      "metadata": {
        "tags": [],
        "id": "0ce21150-8ab8-41db-b942-8e1c6c5ab0c2",
        "outputId": "88c3ef77-82f6-4def-dbfc-b358a934c181"
      },
      "outputs": [
        {
          "name": "stdout",
          "output_type": "stream",
          "text": [
            "PassengerId      0\n",
            "Survived         0\n",
            "Pclass           0\n",
            "Name             0\n",
            "Sex              0\n",
            "Age             86\n",
            "SibSp            0\n",
            "Parch            0\n",
            "Ticket           0\n",
            "Fare             1\n",
            "Cabin          327\n",
            "Embarked         0\n",
            "dtype: int64\n"
          ]
        }
      ],
      "source": [
        "# To check missing values\n",
        "print(df.isnull().sum())"
      ]
    },
    {
      "cell_type": "markdown",
      "id": "ea4f32a4-a71b-4e08-bf2d-91e8dd5e2b89",
      "metadata": {
        "id": "ea4f32a4-a71b-4e08-bf2d-91e8dd5e2b89"
      },
      "source": [
        "##### There are three columns with missing values\n",
        "They are as follows:\n",
        "* Age\n",
        "* Fare\n",
        "* Cabin"
      ]
    },
    {
      "cell_type": "code",
      "execution_count": null,
      "id": "c7f5cc8b-7e5a-4407-8aa3-e211de8eb75b",
      "metadata": {
        "tags": [],
        "id": "c7f5cc8b-7e5a-4407-8aa3-e211de8eb75b",
        "outputId": "a1430953-ab1e-4b70-8353-5a3ad29e9272"
      },
      "outputs": [
        {
          "data": {
            "text/plain": [
              "<seaborn.axisgrid.FacetGrid at 0x185c8508ed0>"
            ]
          },
          "execution_count": 122,
          "metadata": {},
          "output_type": "execute_result"
        },
        {
          "data": {
            "image/png": "[encoded data removed]",
            "text/plain": [
              "<Figure size 640x480 with 1 Axes>"
            ]
          },
          "metadata": {},
          "output_type": "display_data"
        },
        {
          "data": {
            "image/png": "[encoded data removed]",
            "text/plain": [
              "<Figure size 500x500 with 1 Axes>"
            ]
          },
          "metadata": {},
          "output_type": "display_data"
        }
      ],
      "source": [
        "# Visualizing the outliers of the missing numbers\n",
        "mis_numbers = ['Age', 'Fare']\n",
        "sns.histplot(df[mis_numbers], bins=20)\n",
        "sns.displot(df['Cabin'])"
      ]
    },
    {
      "cell_type": "code",
      "execution_count": null,
      "id": "cbe25be6-b0d7-45f1-a2bd-45f9dcd55a1c",
      "metadata": {
        "tags": [],
        "id": "cbe25be6-b0d7-45f1-a2bd-45f9dcd55a1c"
      },
      "outputs": [],
      "source": [
        "# Drop/delete the column Cabin coz it contains many missing numbers\n",
        "data_Cabin = df.drop(\"Cabin\",axis=1,inplace=True)"
      ]
    },
    {
      "cell_type": "code",
      "execution_count": null,
      "id": "6067c12b-9d4b-4830-9c29-70e6a92daeaa",
      "metadata": {
        "tags": [],
        "id": "6067c12b-9d4b-4830-9c29-70e6a92daeaa"
      },
      "outputs": [],
      "source": [
        "# Column 'Fare' & 'Age' has missing values also, fill in with the mean value\n",
        "df['Fare'] = df['Fare'].fillna(df['Fare'].mean())\n",
        "df['Age'] = df['Age'].fillna(df[\"Age\"].mean())"
      ]
    },
    {
      "cell_type": "code",
      "execution_count": null,
      "id": "1f39c3b5-6750-4c88-bad7-962635f48ee6",
      "metadata": {
        "tags": [],
        "id": "1f39c3b5-6750-4c88-bad7-962635f48ee6",
        "outputId": "9696b53b-936a-4e42-edba-5ec615ebf470"
      },
      "outputs": [
        {
          "name": "stdout",
          "output_type": "stream",
          "text": [
            "<class 'pandas.core.frame.DataFrame'>\n",
            "RangeIndex: 418 entries, 0 to 417\n",
            "Data columns (total 11 columns):\n",
            " #   Column       Non-Null Count  Dtype  \n",
            "---  ------       --------------  -----  \n",
            " 0   PassengerId  418 non-null    int64  \n",
            " 1   Survived     418 non-null    int64  \n",
            " 2   Pclass       418 non-null    int64  \n",
            " 3   Name         418 non-null    object \n",
            " 4   Sex          418 non-null    object \n",
            " 5   Age          418 non-null    float64\n",
            " 6   SibSp        418 non-null    int64  \n",
            " 7   Parch        418 non-null    int64  \n",
            " 8   Ticket       418 non-null    object \n",
            " 9   Fare         418 non-null    float64\n",
            " 10  Embarked     418 non-null    object \n",
            "dtypes: float64(2), int64(5), object(4)\n",
            "memory usage: 36.1+ KB\n"
          ]
        }
      ],
      "source": [
        "df.info() # Column Cabin is being deleted"
      ]
    },
    {
      "cell_type": "markdown",
      "id": "593354dd-4878-48db-853a-0019fb5894b6",
      "metadata": {
        "id": "593354dd-4878-48db-853a-0019fb5894b6"
      },
      "source": [
        "### Splitting the dataset in to X and Y"
      ]
    },
    {
      "cell_type": "code",
      "execution_count": null,
      "id": "2f88f894-d253-4460-9d4a-b4553f5db434",
      "metadata": {
        "tags": [],
        "id": "2f88f894-d253-4460-9d4a-b4553f5db434",
        "outputId": "ee5bccbb-0f42-4ac4-c9dd-66e1c39e2f16"
      },
      "outputs": [
        {
          "name": "stdout",
          "output_type": "stream",
          "text": [
            "[0 1 0 0 1 0 1 0 1 0 0 0 1 0 1 1 0 0 1 1 0 0 1 0 1 0 1 0 0 0 0 0 1 1 0 0 1\n",
            " 1 0 0 0 0 0 1 1 0 0 0 1 1 0 0 1 1 0 0 0 0 0 1 0 0 0 1 0 1 1 0 0 1 1 0 1 0\n",
            " 1 0 0 1 0 1 0 0 0 0 0 0 1 1 1 0 1 0 1 0 0 0 1 0 1 0 1 0 0 0 1 0 0 0 0 0 0\n",
            " 1 1 1 1 0 0 1 0 1 1 0 1 0 0 1 0 1 0 0 0 0 1 0 0 0 0 0 1 0 1 1 0 0 0 0 0 0\n",
            " 0 0 1 0 0 1 0 0 1 1 0 1 1 0 1 0 0 1 0 0 1 1 0 0 0 0 0 1 1 0 1 1 0 0 1 0 1\n",
            " 0 1 0 1 0 0 0 0 0 0 0 0 1 0 1 1 0 0 1 0 0 1 0 1 0 0 0 0 1 1 0 1 0 1 0 1 0\n",
            " 1 0 1 1 0 1 0 0 0 1 0 0 0 0 0 0 1 1 1 1 0 0 0 0 1 0 1 1 1 0 0 0 0 0 0 0 1\n",
            " 0 0 0 1 1 0 0 0 0 1 0 0 0 1 1 0 1 0 0 0 0 1 0 1 1 1 0 0 0 0 0 0 1 0 0 0 0\n",
            " 1 0 0 0 0 0 0 0 1 1 0 0 0 1 0 0 0 1 1 1 0 0 0 0 0 0 0 0 1 0 1 0 0 0 1 0 0\n",
            " 1 0 0 0 0 0 0 0 0 0 1 0 1 0 1 0 1 1 0 0 0 1 0 1 0 0 1 0 1 1 0 1 1 0 1 1 0\n",
            " 0 1 0 0 1 1 1 0 0 0 0 0 1 1 0 1 0 0 0 0 0 1 0 0 0 1 0 1 0 0 1 0 1 0 0 0 0\n",
            " 0 1 1 1 1 1 0 1 0 0 0] \n",
            " 418\n"
          ]
        }
      ],
      "source": [
        "y = df.iloc[:, 1].values\n",
        "print(y, \"\\n\", len(y))"
      ]
    },
    {
      "cell_type": "code",
      "execution_count": null,
      "id": "9c891ecd-6f5b-4638-8570-bc2bd7d5aae4",
      "metadata": {
        "tags": [],
        "id": "9c891ecd-6f5b-4638-8570-bc2bd7d5aae4",
        "outputId": "4e559cd3-e53d-49f7-8993-609a2c2b13e2"
      },
      "outputs": [
        {
          "data": {
            "text/html": [
              "<div>\n",
              "<style scoped>\n",
              "    .dataframe tbody tr th:only-of-type {\n",
              "        vertical-align: middle;\n",
              "    }\n",
              "\n",
              "    .dataframe tbody tr th {\n",
              "        vertical-align: top;\n",
              "    }\n",
              "\n",
              "    .dataframe thead th {\n",
              "        text-align: right;\n",
              "    }\n",
              "</style>\n",
              "<table border=\"1\" class=\"dataframe\">\n",
              "  <thead>\n",
              "    <tr style=\"text-align: right;\">\n",
              "      <th></th>\n",
              "      <th>PassengerId</th>\n",
              "      <th>Survived</th>\n",
              "      <th>Pclass</th>\n",
              "      <th>Name</th>\n",
              "      <th>Sex</th>\n",
              "      <th>Age</th>\n",
              "      <th>SibSp</th>\n",
              "      <th>Parch</th>\n",
              "      <th>Ticket</th>\n",
              "      <th>Fare</th>\n",
              "      <th>Embarked</th>\n",
              "    </tr>\n",
              "  </thead>\n",
              "  <tbody>\n",
              "    <tr>\n",
              "      <th>0</th>\n",
              "      <td>892</td>\n",
              "      <td>0</td>\n",
              "      <td>3</td>\n",
              "      <td>Kelly, Mr. James</td>\n",
              "      <td>1</td>\n",
              "      <td>34.5</td>\n",
              "      <td>0</td>\n",
              "      <td>0</td>\n",
              "      <td>330911</td>\n",
              "      <td>7.8292</td>\n",
              "      <td>Q</td>\n",
              "    </tr>\n",
              "    <tr>\n",
              "      <th>1</th>\n",
              "      <td>893</td>\n",
              "      <td>1</td>\n",
              "      <td>3</td>\n",
              "      <td>Wilkes, Mrs. James (Ellen Needs)</td>\n",
              "      <td>0</td>\n",
              "      <td>47.0</td>\n",
              "      <td>1</td>\n",
              "      <td>0</td>\n",
              "      <td>363272</td>\n",
              "      <td>7.0000</td>\n",
              "      <td>S</td>\n",
              "    </tr>\n",
              "    <tr>\n",
              "      <th>2</th>\n",
              "      <td>894</td>\n",
              "      <td>0</td>\n",
              "      <td>2</td>\n",
              "      <td>Myles, Mr. Thomas Francis</td>\n",
              "      <td>1</td>\n",
              "      <td>62.0</td>\n",
              "      <td>0</td>\n",
              "      <td>0</td>\n",
              "      <td>240276</td>\n",
              "      <td>9.6875</td>\n",
              "      <td>Q</td>\n",
              "    </tr>\n",
              "    <tr>\n",
              "      <th>3</th>\n",
              "      <td>895</td>\n",
              "      <td>0</td>\n",
              "      <td>3</td>\n",
              "      <td>Wirz, Mr. Albert</td>\n",
              "      <td>1</td>\n",
              "      <td>27.0</td>\n",
              "      <td>0</td>\n",
              "      <td>0</td>\n",
              "      <td>315154</td>\n",
              "      <td>8.6625</td>\n",
              "      <td>S</td>\n",
              "    </tr>\n",
              "    <tr>\n",
              "      <th>4</th>\n",
              "      <td>896</td>\n",
              "      <td>1</td>\n",
              "      <td>3</td>\n",
              "      <td>Hirvonen, Mrs. Alexander (Helga E Lindqvist)</td>\n",
              "      <td>0</td>\n",
              "      <td>22.0</td>\n",
              "      <td>1</td>\n",
              "      <td>1</td>\n",
              "      <td>3101298</td>\n",
              "      <td>12.2875</td>\n",
              "      <td>S</td>\n",
              "    </tr>\n",
              "  </tbody>\n",
              "</table>\n",
              "</div>"
            ],
            "text/plain": [
              "   PassengerId  Survived  Pclass  \\\n",
              "0          892         0       3   \n",
              "1          893         1       3   \n",
              "2          894         0       2   \n",
              "3          895         0       3   \n",
              "4          896         1       3   \n",
              "\n",
              "                                           Name  Sex   Age  SibSp  Parch  \\\n",
              "0                              Kelly, Mr. James    1  34.5      0      0   \n",
              "1              Wilkes, Mrs. James (Ellen Needs)    0  47.0      1      0   \n",
              "2                     Myles, Mr. Thomas Francis    1  62.0      0      0   \n",
              "3                              Wirz, Mr. Albert    1  27.0      0      0   \n",
              "4  Hirvonen, Mrs. Alexander (Helga E Lindqvist)    0  22.0      1      1   \n",
              "\n",
              "    Ticket     Fare Embarked  \n",
              "0   330911   7.8292        Q  \n",
              "1   363272   7.0000        S  \n",
              "2   240276   9.6875        Q  \n",
              "3   315154   8.6625        S  \n",
              "4  3101298  12.2875        S  "
            ]
          },
          "execution_count": 128,
          "metadata": {},
          "output_type": "execute_result"
        }
      ],
      "source": [
        "# Column \"sex\" is categorical so we need to encode it\n",
        "# Encoding the column\n",
        "from sklearn.preprocessing import LabelEncoder\n",
        "le = LabelEncoder()\n",
        "df['Sex'] = le.fit_transform(df['Sex']) # Male is encoded as 1 and female encoded as 0\n",
        "df.head()"
      ]
    },
    {
      "cell_type": "code",
      "execution_count": null,
      "id": "0563c164-db03-4ee7-82b0-6476a24da401",
      "metadata": {
        "tags": [],
        "id": "0563c164-db03-4ee7-82b0-6476a24da401",
        "outputId": "2bb0461b-d755-43bb-c2ab-e22ac356e741"
      },
      "outputs": [
        {
          "name": "stdout",
          "output_type": "stream",
          "text": [
            "[[ 3.          1.         34.5         0.          0.          7.8292    ]\n",
            " [ 3.          0.         47.          1.          0.          7.        ]\n",
            " [ 2.          1.         62.          0.          0.          9.6875    ]\n",
            " ...\n",
            " [ 3.          1.         38.5         0.          0.          7.25      ]\n",
            " [ 3.          1.         30.27259036  0.          0.          8.05      ]\n",
            " [ 3.          1.         30.27259036  1.          1.         22.3583    ]]\n"
          ]
        }
      ],
      "source": [
        "# Defining the features to be used in the training\n",
        "# features = [\"Pclass\", \"Sex\", \"Age\", \"SibSp\", \"Parch\", \"Fare\"]\n",
        "X = df.iloc[:,[2,4,5,6,7,9]].values\n",
        "print(X)"
      ]
    },
    {
      "cell_type": "code",
      "execution_count": null,
      "id": "3635765a-477c-49ad-ac24-b2ac9053d318",
      "metadata": {
        "tags": [],
        "id": "3635765a-477c-49ad-ac24-b2ac9053d318",
        "outputId": "027b88d3-34bf-4ef3-fb80-ded4a7a4fe14"
      },
      "outputs": [
        {
          "name": "stdout",
          "output_type": "stream",
          "text": [
            "X_shape:  (418, 6)\n",
            "y_shape:  (418,)\n"
          ]
        }
      ],
      "source": [
        "# Check the shape of X and Y\n",
        "print(\"X_shape: \", X.shape)\n",
        "print(\"y_shape: \", y.shape)"
      ]
    },
    {
      "cell_type": "markdown",
      "id": "35160f79-3a87-40f3-bffa-a0a465e5ce6c",
      "metadata": {
        "id": "35160f79-3a87-40f3-bffa-a0a465e5ce6c"
      },
      "source": [
        "### Splitting the dataset into training and test"
      ]
    },
    {
      "cell_type": "code",
      "execution_count": null,
      "id": "10ab639b-523c-48dc-a1dc-3eb3275f2e4f",
      "metadata": {
        "tags": [],
        "id": "10ab639b-523c-48dc-a1dc-3eb3275f2e4f"
      },
      "outputs": [],
      "source": [
        "from sklearn.model_selection import train_test_split\n",
        "X_train, X_test, y_train, y_test  = train_test_split(X, y, test_size=0.25, stratify=y, random_state=42)"
      ]
    },
    {
      "cell_type": "markdown",
      "id": "85c7376d-6928-4c43-a4fb-48863d0eac4e",
      "metadata": {
        "id": "85c7376d-6928-4c43-a4fb-48863d0eac4e"
      },
      "source": [
        "### Feature Scaling"
      ]
    },
    {
      "cell_type": "code",
      "execution_count": null,
      "id": "d0d29126-9c37-4e55-aef2-4d8873dcb49b",
      "metadata": {
        "tags": [],
        "id": "d0d29126-9c37-4e55-aef2-4d8873dcb49b"
      },
      "outputs": [],
      "source": [
        "# We need to rescale the dataset to the same numerical value\n",
        "from sklearn.preprocessing import StandardScaler\n",
        "sc = StandardScaler()\n",
        "X_train = sc.fit_transform(X_train)\n",
        "X_test = sc.fit_transform(X_test)\n"
      ]
    },
    {
      "cell_type": "markdown",
      "id": "a59edf0f-dddf-43fe-a785-c1d4ed8eb4a8",
      "metadata": {
        "id": "a59edf0f-dddf-43fe-a785-c1d4ed8eb4a8"
      },
      "source": [
        "### Using Naive-Bayes Classifier Algorithm"
      ]
    },
    {
      "cell_type": "code",
      "execution_count": null,
      "id": "c7c55b55-940d-4fd8-9e71-d7783e8101c6",
      "metadata": {
        "tags": [],
        "id": "c7c55b55-940d-4fd8-9e71-d7783e8101c6"
      },
      "outputs": [],
      "source": [
        "# Import the necessary libraries\n",
        "from sklearn.naive_bayes import GaussianNB # With gaussian method of naive-bayes\n",
        "model = GaussianNB()\n",
        "model = model.fit(X_test, y_test)"
      ]
    },
    {
      "cell_type": "code",
      "execution_count": null,
      "id": "201fc621-7b4e-49b2-af45-872ea2444c5f",
      "metadata": {
        "tags": [],
        "id": "201fc621-7b4e-49b2-af45-872ea2444c5f",
        "outputId": "0aabe43c-1f1d-4146-c813-4f14fb016f13"
      },
      "outputs": [
        {
          "name": "stdout",
          "output_type": "stream",
          "text": [
            "[1 1 1 1 0 0 0 0 0 1 0 0 1 0 0 0 0 0 1 0 0 1 0 0 0 0 0 1 0 0 0 0 0 0 0 0 0\n",
            " 1 0 1 0 1 0 0 0 1 0 0 0 0 0 0 1 0 1 0 1 1 0 0 0 0 1 0 1 0 1 0 1 1 1 0 0 1\n",
            " 0 1 0 0 1 0 0 0 0 0 1 0 0 0 1 1 1 0 1 1 1 0 1 0 0 0 0 1 1 1 1]\n"
          ]
        }
      ],
      "source": [
        "# Predicting the Test set results\n",
        "y_pred = model.predict(X_test)\n",
        "print(y_pred)"
      ]
    },
    {
      "cell_type": "code",
      "execution_count": null,
      "id": "efe0889a-e475-42ca-814c-df0c1d608326",
      "metadata": {
        "tags": [],
        "id": "efe0889a-e475-42ca-814c-df0c1d608326",
        "outputId": "ba69ab2f-54cc-41ed-971f-61dfef2f13e1"
      },
      "outputs": [
        {
          "name": "stdout",
          "output_type": "stream",
          "text": [
            "confusion matrix: [[67  0]\n",
            " [ 0 38]] \n",
            "\n",
            "accuracy_score: 1.0\n"
          ]
        }
      ],
      "source": [
        "# Check the accuracy of the prediction\n",
        "from sklearn.metrics import confusion_matrix, accuracy_score\n",
        "cm = confusion_matrix(y_test, y_pred)\n",
        "ac = accuracy_score(y_pred, y_test)\n",
        "print(\"confusion matrix:\", cm, \"\\n\")\n",
        "print(\"accuracy_score:\", ac)"
      ]
    },
    {
      "cell_type": "code",
      "execution_count": null,
      "id": "e2d8dfbf-cb77-43d9-a7f9-a53f575d11c5",
      "metadata": {
        "tags": [],
        "id": "e2d8dfbf-cb77-43d9-a7f9-a53f575d11c5",
        "outputId": "357eb829-cd9b-47e9-c287-852b64ecd858"
      },
      "outputs": [
        {
          "name": "stdout",
          "output_type": "stream",
          "text": [
            "0.0\n"
          ]
        }
      ],
      "source": [
        "from sklearn.metrics import mean_absolute_error as mae, classification_report\n",
        "mae_score = mae(y_pred, y_test)\n",
        "print(mae_score)"
      ]
    },
    {
      "cell_type": "code",
      "execution_count": null,
      "id": "c7dd1883-4f7a-4be0-af42-c115d6fee311",
      "metadata": {
        "tags": [],
        "id": "c7dd1883-4f7a-4be0-af42-c115d6fee311",
        "outputId": "7052f875-28d6-49a7-888f-e2e12b73f5b3"
      },
      "outputs": [
        {
          "name": "stdout",
          "output_type": "stream",
          "text": [
            "              precision    recall  f1-score   support\n",
            "\n",
            "           0       1.00      1.00      1.00        67\n",
            "           1       1.00      1.00      1.00        38\n",
            "\n",
            "    accuracy                           1.00       105\n",
            "   macro avg       1.00      1.00      1.00       105\n",
            "weighted avg       1.00      1.00      1.00       105\n",
            "\n"
          ]
        }
      ],
      "source": [
        "cr = classification_report(y_pred, y_test)\n",
        "print(cr)"
      ]
    },
    {
      "cell_type": "code",
      "execution_count": null,
      "id": "958bdc2a-35e3-4b1d-895e-575fd8dab40c",
      "metadata": {
        "tags": [],
        "id": "958bdc2a-35e3-4b1d-895e-575fd8dab40c",
        "outputId": "306b14b8-1b68-48f2-d034-a65ce9f25835"
      },
      "outputs": [
        {
          "name": "stdout",
          "output_type": "stream",
          "text": [
            "Download complete!\n"
          ]
        }
      ],
      "source": [
        "output = pd.DataFrame({'PassengerId':df.PassengerId[1:106], 'Survived':y_pred})\n",
        "output.to_csv(\"Output(1).csv\", index=False)\n",
        "print(\"Download complete!\")"
      ]
    },
    {
      "cell_type": "code",
      "execution_count": null,
      "id": "7e44637e-1529-47dd-9987-2696f1e51484",
      "metadata": {
        "id": "7e44637e-1529-47dd-9987-2696f1e51484"
      },
      "outputs": [],
      "source": []
    }
  ],
  "metadata": {
    "kernelspec": {
      "display_name": "Python 3 (ipykernel)",
      "language": "python",
      "name": "python3"
    },
    "language_info": {
      "codemirror_mode": {
        "name": "ipython",
        "version": 3
      },
      "file_extension": ".py",
      "mimetype": "text/x-python",
      "name": "python",
      "nbconvert_exporter": "python",
      "pygments_lexer": "ipython3",
      "version": "3.11.4"
    },
    "colab": {
      "provenance": [],
      "include_colab_link": true
    }
  },
  "nbformat": 4,
  "nbformat_minor": 5
}